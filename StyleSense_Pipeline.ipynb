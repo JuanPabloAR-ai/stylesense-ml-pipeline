{
 "cells": [
  {
   "cell_type": "markdown",
   "id": "fe0ec6be",
   "metadata": {},
   "source": [
    "\n",
    "# Fashion Forward Forecasting — End‑to‑End ML Pipeline\n",
    "\n",
    "**Goal.** Train a pipeline that predicts whether a customer recommends a product using text reviews, numeric, and categorical features.  \n",
    "This notebook is modular, follows best practices (no data leakage), performs hyperparameter tuning, and evaluates on a held‑out test set.\n"
   ]
  },
  {
   "cell_type": "markdown",
   "id": "c3579b3c",
   "metadata": {},
   "source": [
    "## 1. Imports & Config"
   ]
  },
  {
   "cell_type": "code",
   "execution_count": null,
   "id": "6d2493b2",
   "metadata": {},
   "outputs": [],
   "source": [
    "\n",
    "from __future__ import annotations\n",
    "from typing import List, Tuple\n",
    "import numpy as np\n",
    "import pandas as pd\n",
    "import joblib\n",
    "\n",
    "from sklearn.model_selection import train_test_split, StratifiedKFold, GridSearchCV\n",
    "from sklearn.pipeline import Pipeline\n",
    "from sklearn.compose import ColumnTransformer\n",
    "from sklearn.impute import SimpleImputer\n",
    "from sklearn.preprocessing import OneHotEncoder, StandardScaler\n",
    "from sklearn.feature_extraction.text import TfidfVectorizer\n",
    "from sklearn.linear_model import LogisticRegression\n",
    "\n",
    "from src.data_utils import Config, load_data\n",
    "from src.text_preproc import SpacyLemmatizer, text_joiner\n",
    "from src.metrics import evaluate\n",
    "\n",
    "CFG = Config()  # <-- change column names here if needed\n",
    "RANDOM_STATE = CFG.random_state\n"
   ]
  },
  {
   "cell_type": "markdown",
   "id": "8f8bd680",
   "metadata": {},
   "source": [
    "## 2. Load Data"
   ]
  },
  {
   "cell_type": "code",
   "execution_count": null,
   "id": "a5d78d12",
   "metadata": {},
   "outputs": [],
   "source": [
    "\n",
    "df = load_data(CFG)\n",
    "df.head(3)\n"
   ]
  },
  {
   "cell_type": "markdown",
   "id": "1196728d",
   "metadata": {},
   "source": [
    "## 3. Train/Test Split (Stratified)"
   ]
  },
  {
   "cell_type": "code",
   "execution_count": null,
   "id": "62518a74",
   "metadata": {},
   "outputs": [],
   "source": [
    "\n",
    "X = df[[*CFG.text_cols, *CFG.num_cols, *CFG.cat_cols]]\n",
    "y = df[CFG.target].astype(int)\n",
    "\n",
    "X_train, X_test, y_train, y_test = train_test_split(\n",
    "    X, y, test_size=0.20, stratify=y, random_state=RANDOM_STATE\n",
    ")\n",
    "X_train.shape, X_test.shape, y_train.value_counts(normalize=True).round(3)\n"
   ]
  },
  {
   "cell_type": "markdown",
   "id": "05af4590",
   "metadata": {},
   "source": [
    "## 4. Preprocessing & Model Pipeline"
   ]
  },
  {
   "cell_type": "code",
   "execution_count": null,
   "id": "6743a215",
   "metadata": {},
   "outputs": [],
   "source": [
    "\n",
    "from sklearn.pipeline import Pipeline\n",
    "\n",
    "# Numeric pipeline\n",
    "numeric_pipe = Pipeline(steps=[\n",
    "    (\"imputer\", SimpleImputer(strategy=\"median\")),\n",
    "    (\"scaler\", StandardScaler())\n",
    "])\n",
    "\n",
    "# Categorical pipeline\n",
    "categorical_pipe = Pipeline(steps=[\n",
    "    (\"imputer\", SimpleImputer(strategy=\"most_frequent\")),\n",
    "    (\"onehot\", OneHotEncoder(handle_unknown=\"ignore\"))\n",
    "])\n",
    "\n",
    "# Text pipeline: join text cols -> spaCy lemmatization -> TF-IDF\n",
    "text_pipe = Pipeline(steps=[\n",
    "    (\"join\", text_joiner),\n",
    "    (\"lemma\", SpacyLemmatizer(model=CFG.spacy_model)),\n",
    "    (\"tfidf\", TfidfVectorizer(\n",
    "        tokenizer=identity,\n",
    "        preprocessor=identity,\n",
    "        token_pattern=None\n",
    "    ))\n",
    "])\n",
    "\n",
    "# ColumnTransformer to combine all branches\n",
    "preprocess = ColumnTransformer(transformers=[\n",
    "    (\"num\", numeric_pipe, list(CFG.num_cols)),\n",
    "    (\"cat\", categorical_pipe, list(CFG.cat_cols)),\n",
    "    (\"txt\", text_pipe, list(CFG.text_cols)),\n",
    "])\n",
    "\n",
    "# Final pipeline with classifier\n",
    "pipeline = Pipeline(steps=[\n",
    "    (\"preprocess\", preprocess),\n",
    "    (\"clf\", LogisticRegression(max_iter=2000))\n",
    "])\n",
    "pipeline\n"
   ]
  },
  {
   "cell_type": "markdown",
   "id": "c855b410",
   "metadata": {},
   "source": [
    "## 5. Hyperparameter Tuning (GridSearchCV)"
   ]
  },
  {
   "cell_type": "code",
   "execution_count": null,
   "id": "683ccfd7",
   "metadata": {},
   "outputs": [],
   "source": [
    "\n",
    "cv = StratifiedKFold(n_splits=5, shuffle=True, random_state=RANDOM_STATE)\n",
    "\n",
    "param_grid = {\n",
    "    \"preprocess__txt__tfidf__min_df\": [2, 5],\n",
    "    \"preprocess__txt__tfidf__ngram_range\": [(1,1), (1,2)],\n",
    "    \"clf__C\": [0.5, 1.0, 2.0, 5.0],\n",
    "    \"clf__penalty\": [\"l2\"],\n",
    "    \"clf__solver\": [\"liblinear\", \"lbfgs\"],\n",
    "}\n",
    "\n",
    "grid = GridSearchCV(\n",
    "    estimator=pipeline,\n",
    "    param_grid=param_grid,\n",
    "    scoring=\"f1\",\n",
    "    cv=cv,\n",
    "    n_jobs=-1,\n",
    "    verbose=1\n",
    ")\n",
    "\n",
    "grid.fit(X_train, y_train)\n",
    "print(\"Best params:\", grid.best_params_)\n",
    "print(\"Best CV F1:\", round(grid.best_score_, 4))\n",
    "best_model = grid.best_estimator_\n"
   ]
  },
  {
   "cell_type": "markdown",
   "id": "5cb5595f",
   "metadata": {},
   "source": [
    "## 6. Evaluation on Test Set"
   ]
  },
  {
   "cell_type": "code",
   "execution_count": null,
   "id": "bdf3a9bb",
   "metadata": {},
   "outputs": [],
   "source": [
    "\n",
    "y_pred = best_model.predict(X_test)\n",
    "# Proba for ROC-AUC if supported\n",
    "try:\n",
    "    y_proba = best_model.predict_proba(X_test)[:, 1]\n",
    "except Exception:\n",
    "    y_proba = None\n",
    "\n",
    "evaluate(y_test, y_pred, y_proba)\n"
   ]
  },
  {
   "cell_type": "markdown",
   "id": "1e5e700d",
   "metadata": {},
   "source": [
    "## 7. Save Trained Pipeline"
   ]
  },
  {
   "cell_type": "code",
   "execution_count": null,
   "id": "4e315c89",
   "metadata": {},
   "outputs": [],
   "source": [
    "\n",
    "joblib.dump(best_model, CFG.model_out)\n",
    "CFG.model_out\n"
   ]
  },
  {
   "cell_type": "markdown",
   "id": "8789cafa",
   "metadata": {},
   "source": [
    "\n",
    "## 8. Next Steps (Ideas to Stand Out)\n",
    "- Add POS/NER derived features (spaCy) as extra numeric signals.\n",
    "- Plot simple visualizations (label distribution, top TF‑IDF terms).\n",
    "- Try alternative classifiers (LinearSVC, RandomForest, XGBoost).\n",
    "- Use `permutation_importance` on numeric/categorical subsets.\n"
   ]
  }
 ],
 "metadata": {},
 "nbformat": 4,
 "nbformat_minor": 5
}
